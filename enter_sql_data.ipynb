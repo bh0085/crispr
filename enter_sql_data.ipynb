{
 "metadata": {
  "name": "enter_sql_data"
 },
 "nbformat": 3,
 "nbformat_minor": 0,
 "worksheets": [
  {
   "cells": [
    {
     "cell_type": "code",
     "collapsed": false,
     "input": [
      "import os\n",
      "\n",
      "DATAPATH='/data/zlab/vineeta'\n",
      "locs1k = os.path.join(DATAPATH,'locs1k.txt')\n",
      "with open(locs1k) as f:\n",
      "    lines = f.readlines()\n",
      "rows = [ dict(id=i, seq= l.split(\"\\t\")[3].strip()) for i,l in enumerate(lines)]\n",
      "for r in rows:\n",
      "    for let in [\"A\",\"G\",\"T\",\"C\"]:\n",
      "        r[let] = r[\"seq\"].count(let)\n",
      "\n",
      "print rows[0]"
     ],
     "language": "python",
     "metadata": {},
     "outputs": [
      {
       "output_type": "stream",
       "stream": "stdout",
       "text": [
        "{'A': 8, 'C': 5, 'seq': 'CTTCCTAAGACAACAAGTGAGGG\\n', 'G': 6, 'T': 4, 'id': 0}\n"
       ]
      }
     ],
     "prompt_number": 13
    },
    {
     "cell_type": "code",
     "collapsed": false,
     "input": [],
     "language": "python",
     "metadata": {},
     "outputs": [],
     "prompt_number": 1
    },
    {
     "cell_type": "code",
     "collapsed": false,
     "input": [],
     "language": "python",
     "metadata": {},
     "outputs": []
    }
   ],
   "metadata": {}
  }
 ]
}