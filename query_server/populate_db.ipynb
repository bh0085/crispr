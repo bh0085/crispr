{
 "metadata": {
  "name": "populate_db"
 },
 "nbformat": 3,
 "nbformat_minor": 0,
 "worksheets": [
  {
   "cells": [
    {
     "cell_type": "code",
     "collapsed": false,
     "input": [
      "#!/usr/bin/env python\n",
      "'''\n",
      "populates a postgres database with CRISPR loci\n",
      "computes the distribution of letters in each locus\n",
      "and builds an index on that distribution\n",
      "'''\n",
      "\n",
      "import os\n",
      "\n",
      "DATAPATH='/data/zlab/vineeta'\n",
      "locs1k = os.path.join(DATAPATH,'locs1k.txt')\n",
      "global rows\n",
      "def main():\n",
      "    with open(locs1k) as f:\n",
      "        lines = f.readlines()\n",
      "    global rows\n",
      "    rows = [ dict(id=i, seq= l.split(\"\\t\")[3].strip()[:-3]) for i,l in enumerate(lines)]\n",
      "    for r in rows:\n",
      "        for let in [\"A\",\"G\",\"T\",\"C\"]:\n",
      "            r[let] = r[\"seq\"].count(let)\n",
      "\n",
      "    print rows[0]\n",
      "\n",
      "    \n",
      "    \n",
      "main()\n",
      "\n",
      "#if __name__ == \"__main__\":\n",
      "#    main()"
     ],
     "language": "python",
     "metadata": {},
     "outputs": [
      {
       "output_type": "stream",
       "stream": "stdout",
       "text": [
        "{'A': 8, 'C': 5, 'seq': 'CTTCCTAAGACAACAAGTGA', 'G': 3, 'T': 4, 'id': 0}\n"
       ]
      }
     ],
     "prompt_number": 49
    },
    {
     "cell_type": "code",
     "collapsed": false,
     "input": [
      "import psycopg2\n",
      "conn  = psycopg2.connect(\"dbname=vineeta user=postgres\")\n",
      "cur = conn.cursor()\n",
      "init_table = \"\"\"\n",
      "DROP TABLE loci1k;\n",
      "CREATE TABLE loci1k (\n",
      "    id        int PRIMARY KEY,\n",
      "    seq       char(20) NOT NULL,\n",
      "    A         smallint,\n",
      "    T         smallint,\n",
      "    G         smallint,\n",
      "    C         smallint\n",
      ");\n",
      "\n",
      "CREATE TABLE loci1k_idx (\n",
      "    id        int PRIMARY KEY,\n",
      "    seq       char(20) NOT NULL,\n",
      "    A         smallint,\n",
      "    T         smallint,\n",
      "    G         smallint,\n",
      "    C         smallint\n",
      ");\n",
      "\n",
      "\n",
      "CREATE TABLE loci1k_idx_cl (\n",
      "    id        int PRIMARY KEY,\n",
      "    seq       char(20) NOT NULL,\n",
      "    A         smallint,\n",
      "    T         smallint,\n",
      "    G         smallint,\n",
      "    C         smallint\n",
      ");\n",
      "\n",
      "CREATE INDEX nt_distribution_idx ON loci1k (A, T, G, C);\n",
      "CLUSTER loci1k USING nt_distribution_idx;\n",
      "\"\"\"\n",
      "cur.execute(init_table)\n",
      "# Pass data to fill a query placeholders and let Psycopg perform\n",
      "# the correct conversion (no more SQL injections!)\n",
      "for r in rows[:2]:\n",
      "        unsub = \"\"\"INSERT INTO loci1k (\"\"\" + \", \".join(r.keys())+ \"\"\") VALUES ( %s, %s, %s, %s, %s, %s)\"\"\"\n",
      "        print unsub\n",
      "        print r.values()\n",
      "        cur.execute(unsub,r.values()) \n",
      "# Query the database and obtain data as Python objects\n",
      "cur.execute(\"SELECT * FROM loci1k;\")\n",
      "cur.fetchone()\n",
      "conn.commit()\n",
      "\n"
     ],
     "language": "python",
     "metadata": {},
     "outputs": [
      {
       "output_type": "stream",
       "stream": "stdout",
       "text": [
        "INSERT INTO loci1k (A, C, seq, G, T, id) VALUES ( %s, %s, %s, %s, %s, %s)\n",
        "[8, 5, 'CTTCCTAAGACAACAAGTGA', 3, 4, 0]\n",
        "INSERT INTO loci1k (A, C, seq, G, T, id) VALUES ( %s, %s, %s, %s, %s, %s)\n",
        "[8, 5, 'ACTTCCTAAGACAACAAGTG', 3, 4, 1]\n"
       ]
      }
     ],
     "prompt_number": 54
    }
   ],
   "metadata": {}
  }
 ]
}